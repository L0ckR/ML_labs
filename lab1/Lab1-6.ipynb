{
 "cells": [
  {
   "cell_type": "markdown",
   "id": "ec6e7d18-6a6e-4a51-a7cd-0a1152604973",
   "metadata": {},
   "source": [
    "## Лабораторная работа №1 | Вариант 6"
   ]
  },
  {
   "cell_type": "markdown",
   "id": "277877ce-f982-4711-a6a6-2a4a90871409",
   "metadata": {},
   "source": [
    "Выполнил: "
   ]
  },
  {
   "cell_type": "markdown",
   "id": "031f025d-84dc-470f-b839-456a76d9636b",
   "metadata": {},
   "source": [
    "### 1. Numpy"
   ]
  },
  {
   "cell_type": "code",
   "execution_count": 1,
   "id": "8a2c6f8d-e85b-4982-ba6d-77ffdb7d53e8",
   "metadata": {},
   "outputs": [],
   "source": [
    "import numpy as np"
   ]
  },
  {
   "cell_type": "markdown",
   "id": "6ff3559d-5f3e-4540-9a31-bfb9f42a23da",
   "metadata": {},
   "source": [
    "1. Создайте единичную матрицу размером 3х3"
   ]
  },
  {
   "cell_type": "code",
   "execution_count": 2,
   "id": "752bc586-1e3f-4085-85c3-4068b781314f",
   "metadata": {},
   "outputs": [
    {
     "data": {
      "text/plain": [
       "array([[1., 1., 1.],\n",
       "       [1., 1., 1.],\n",
       "       [1., 1., 1.]])"
      ]
     },
     "execution_count": 2,
     "metadata": {},
     "output_type": "execute_result"
    }
   ],
   "source": [
    "np.ones((3, 3))"
   ]
  },
  {
   "cell_type": "markdown",
   "id": "0243a0f6-1905-4e2d-9572-9ba49dc003a8",
   "metadata": {},
   "source": [
    "2. Создайте матрицу 5х5 со значениями 1, 2, 3, 4 ниже диагонали"
   ]
  },
  {
   "cell_type": "markdown",
   "id": "4a7fc04d",
   "metadata": {},
   "source": [
    "Не очень понятна формулировка задания\n"
   ]
  },
  {
   "cell_type": "code",
   "execution_count": 3,
   "id": "ec6ae581-5adf-459c-bdc7-8b015d9529f6",
   "metadata": {},
   "outputs": [
    {
     "data": {
      "text/plain": [
       "array([[0, 0, 0, 0, 0],\n",
       "       [1, 0, 0, 0, 0],\n",
       "       [0, 2, 0, 0, 0],\n",
       "       [0, 0, 3, 0, 0],\n",
       "       [0, 0, 0, 4, 0]])"
      ]
     },
     "execution_count": 3,
     "metadata": {},
     "output_type": "execute_result"
    }
   ],
   "source": [
    "np.diag([1, 2, 3, 4], k=-1)"
   ]
  },
  {
   "cell_type": "markdown",
   "id": "8c7d3811-a555-4c02-ada8-e4a70b9dee46",
   "metadata": {},
   "source": [
    "3. Какой выход будет у данного скрипта\n",
    "\n",
    "```python\n",
    "# Author: Jake VanderPlas\n",
    "\n",
    "print(sum(range(5),-1))\n",
    "from numpy import *\n",
    "print(sum(range(5),-1))\n",
    "```"
   ]
  },
  {
   "cell_type": "markdown",
   "id": "a1e91a9e",
   "metadata": {},
   "source": [
    "Выводом будет:\n",
    "```\n",
    "9\n",
    "10\n",
    "```"
   ]
  },
  {
   "cell_type": "code",
   "execution_count": 4,
   "id": "12d0ed34-908c-4840-8b81-457e64dd7b0b",
   "metadata": {},
   "outputs": [
    {
     "name": "stdout",
     "output_type": "stream",
     "text": [
      "9\n",
      "10\n"
     ]
    }
   ],
   "source": [
    "# Используется встроенная функция sum(iterable, start). -1 является start и прибавляется к сумме элементов\n",
    "print(sum(range(5),-1))\n",
    "# Используется numpy.sum\n",
    "# numpy.sum(a, axis=None, dtype=None, out=None, keepdims=<no value>, initial=<no value>, where=<no value>). -1 считается за аргумент axis\n",
    "print(np.sum(range(5),-1))"
   ]
  },
  {
   "cell_type": "code",
   "execution_count": 5,
   "id": "e19bb3dc",
   "metadata": {},
   "outputs": [
    {
     "name": "stdout",
     "output_type": "stream",
     "text": [
      "(iterable, /, start=0)\n",
      "(a, axis=None, dtype=None, out=None, keepdims=<no value>, initial=<no value>, where=<no value>)\n"
     ]
    }
   ],
   "source": [
    "import inspect\n",
    "\n",
    "\n",
    "# Проверка сигнатуры встроенной функции sum\n",
    "print(inspect.signature(sum))\n",
    "\n",
    "# Проверка сигнатуры функции sum из NumPy\n",
    "print(inspect.signature(np.sum))"
   ]
  },
  {
   "cell_type": "markdown",
   "id": "b7ca56e6-a194-4c42-b8a2-307fcf40f648",
   "metadata": {},
   "source": [
    "4. Как найти самое часто встречаемое значение между двумя массивами? "
   ]
  },
  {
   "cell_type": "code",
   "execution_count": 6,
   "id": "1b1d64cd-0e28-400f-8d49-a1274947e150",
   "metadata": {},
   "outputs": [
    {
     "data": {
      "text/plain": [
       "4"
      ]
     },
     "execution_count": 6,
     "metadata": {},
     "output_type": "execute_result"
    }
   ],
   "source": [
    "array1 = np.array([1, 2, 3, 4, 5, 5, 2])\n",
    "array2 = np.array([2, 3, 4, 4, 4, 5])\n",
    "\n",
    "combined_array = np.concatenate((array1, array2))\n",
    "np.bincount(combined_array).argmax()"
   ]
  },
  {
   "cell_type": "markdown",
   "id": "b3b2cd1e-e996-45e0-b9ed-e12ce653a9c3",
   "metadata": {},
   "source": [
    "5. Как игнорировать все warnings в numpy(не нужно так делать, но покажи)?"
   ]
  },
  {
   "cell_type": "code",
   "execution_count": 7,
   "id": "c40ef785-d750-42ba-ac6e-b777866202a6",
   "metadata": {},
   "outputs": [],
   "source": [
    "import warnings\n",
    "\n",
    "\n",
    "warnings.filterwarnings(\"ignore\")"
   ]
  },
  {
   "cell_type": "code",
   "execution_count": 8,
   "id": "b9736c04",
   "metadata": {},
   "outputs": [
    {
     "data": {
      "text/plain": [
       "array([0.        , 0.69314718, 1.09861229,       -inf])"
      ]
     },
     "execution_count": 8,
     "metadata": {},
     "output_type": "execute_result"
    }
   ],
   "source": [
    "array = np.array([1, 2, 3, 0])\n",
    "np.log(array)  # логарифм от 0 вызовет warning"
   ]
  },
  {
   "cell_type": "markdown",
   "id": "8108b3a8-5ba8-472d-ad6b-095ade8678ef",
   "metadata": {},
   "source": [
    "6. Реализуем функцию-генератор, которая генерирует 10 целых чисел и используем ее для построения массива"
   ]
  },
  {
   "cell_type": "code",
   "execution_count": 9,
   "id": "89b58c0a-bd5d-435a-be45-719fdfce662a",
   "metadata": {},
   "outputs": [
    {
     "data": {
      "text/plain": [
       "array([14, 20, 37, 18, 86, 15, 87,  9, 67, 42])"
      ]
     },
     "execution_count": 9,
     "metadata": {},
     "output_type": "execute_result"
    }
   ],
   "source": [
    "def generate10nums():\n",
    "    for _ in range(10):\n",
    "        yield np.random.randint(1, 100)\n",
    "\n",
    "np.fromiter(generate10nums(), dtype=int)"
   ]
  },
  {
   "cell_type": "markdown",
   "id": "98511652-db85-4506-a5b8-f94b05d35ce9",
   "metadata": {},
   "source": [
    "7. Создайте массив случайных чисел размером 10 и отсортируйте его"
   ]
  },
  {
   "cell_type": "code",
   "execution_count": 10,
   "id": "ca72cdb0-ed24-460d-81a9-220b850d62c3",
   "metadata": {},
   "outputs": [
    {
     "name": "stdout",
     "output_type": "stream",
     "text": [
      "[14 96 67  4 91 63 37 12 87 72]\n",
      "[ 4 12 14 37 63 67 72 87 91 96]\n"
     ]
    }
   ],
   "source": [
    "array = np.fromiter(generate10nums(), dtype=int)\n",
    "print(array)\n",
    "array.sort()\n",
    "print(array)"
   ]
  },
  {
   "cell_type": "markdown",
   "id": "1412a70a-2a1e-406e-a227-afc9a47ed659",
   "metadata": {},
   "source": [
    "8. Создайте случайную матрицу 10х2 которая представляет собой декартовые координаты и преобразуйте их в полярные"
   ]
  },
  {
   "cell_type": "code",
   "execution_count": 11,
   "id": "22bb8bbf-52dd-4d3c-86c0-c4e9637b909b",
   "metadata": {},
   "outputs": [
    {
     "data": {
      "text/plain": [
       "array([[0.15308748, 0.77721944],\n",
       "       [0.26579372, 0.94271233],\n",
       "       [0.36100719, 0.62558981],\n",
       "       [0.34161736, 0.18026228],\n",
       "       [0.2830108 , 0.88510962],\n",
       "       [0.95535529, 0.74071562],\n",
       "       [0.52287086, 0.79853043],\n",
       "       [0.36383726, 0.32067754],\n",
       "       [0.58036208, 0.70618526],\n",
       "       [0.65401189, 0.82414564]])"
      ]
     },
     "execution_count": 11,
     "metadata": {},
     "output_type": "execute_result"
    }
   ],
   "source": [
    "cartesian_coords = np.random.rand(10,2)\n",
    "cartesian_coords"
   ]
  },
  {
   "cell_type": "code",
   "execution_count": 12,
   "id": "4f82a9f2",
   "metadata": {},
   "outputs": [
    {
     "data": {
      "text/plain": [
       "array([[0.79215266, 1.37631769],\n",
       "       [0.97946559, 1.29598426],\n",
       "       [0.72228027, 1.04741008],\n",
       "       [0.38626016, 0.48554019],\n",
       "       [0.92925463, 1.26132326],\n",
       "       [1.20886863, 0.65951621],\n",
       "       [0.95448666, 0.99106018],\n",
       "       [0.48498623, 0.72242996],\n",
       "       [0.91406661, 0.88288724],\n",
       "       [1.05211577, 0.89999242]])"
      ]
     },
     "execution_count": 12,
     "metadata": {},
     "output_type": "execute_result"
    }
   ],
   "source": [
    "r = np.sqrt(cartesian_coords[:, 0]**2 + cartesian_coords[:, 1]**2)\n",
    "theta = np.arctan2(cartesian_coords[:, 1], cartesian_coords[:, 0])\n",
    "\n",
    "polar_coords = np.column_stack((r, theta))\n",
    "polar_coords"
   ]
  },
  {
   "cell_type": "markdown",
   "id": "e02f6713",
   "metadata": {},
   "source": [
    "Сделаем тест путем обратного преобразования и сравнения"
   ]
  },
  {
   "cell_type": "code",
   "execution_count": 13,
   "id": "0e27211f",
   "metadata": {},
   "outputs": [
    {
     "data": {
      "text/plain": [
       "array([[0.15308748, 0.77721944],\n",
       "       [0.26579372, 0.94271233],\n",
       "       [0.36100719, 0.62558981],\n",
       "       [0.34161736, 0.18026228],\n",
       "       [0.2830108 , 0.88510962],\n",
       "       [0.95535529, 0.74071562],\n",
       "       [0.52287086, 0.79853043],\n",
       "       [0.36383726, 0.32067754],\n",
       "       [0.58036208, 0.70618526],\n",
       "       [0.65401189, 0.82414564]])"
      ]
     },
     "execution_count": 13,
     "metadata": {},
     "output_type": "execute_result"
    }
   ],
   "source": [
    "x = polar_coords[:, 0] * np.cos(polar_coords[:, 1])\n",
    "y = polar_coords[:, 0] * np.sin(polar_coords[:, 1])\n",
    "\n",
    "cartesian_coords_converted = np.column_stack((x, y))\n",
    "cartesian_coords_converted"
   ]
  },
  {
   "cell_type": "code",
   "execution_count": 14,
   "id": "077b6550",
   "metadata": {},
   "outputs": [
    {
     "data": {
      "text/plain": [
       "array([[ True,  True],\n",
       "       [ True,  True],\n",
       "       [ True,  True],\n",
       "       [ True,  True],\n",
       "       [ True,  True],\n",
       "       [ True,  True],\n",
       "       [ True,  True],\n",
       "       [ True,  True],\n",
       "       [ True,  True],\n",
       "       [ True,  True]])"
      ]
     },
     "execution_count": 14,
     "metadata": {},
     "output_type": "execute_result"
    }
   ],
   "source": [
    "np.isclose(cartesian_coords, cartesian_coords_converted, atol=1e-6)"
   ]
  },
  {
   "cell_type": "markdown",
   "id": "f7dc66bf-f7c8-4d78-834b-451651f6839a",
   "metadata": {},
   "source": [
    "9. Создайте структурированный массив который будет описывать пиксель(координату x, y и цвет r,g,b)"
   ]
  },
  {
   "cell_type": "code",
   "execution_count": 15,
   "id": "0ecf5586-d30e-4256-ab93-7ff9bab0b34b",
   "metadata": {},
   "outputs": [
    {
     "data": {
      "text/plain": [
       "array([(0, 0, 255,   0,   0), (1, 1,   0, 255,   0),\n",
       "       (2, 2,   0,   0, 255)],\n",
       "      dtype=[('x', '<i8'), ('y', '<i8'), ('r', 'u1'), ('g', 'u1'), ('b', 'u1')])"
      ]
     },
     "execution_count": 15,
     "metadata": {},
     "output_type": "execute_result"
    }
   ],
   "source": [
    "pixel_dtype = np.dtype([('x', np.int64), ('y', np.int64),\n",
    "                        ('r', np.uint8), ('g', np.uint8), ('b', np.uint8)])\n",
    "\n",
    "pixels = np.array([(0, 0, 255, 0, 0),   # Красный пиксель\n",
    "                   (1, 1, 0, 255, 0),   # Зеленый пиксель\n",
    "                   (2, 2, 0, 0, 255)],  # Синий пиксель\n",
    "                  dtype=pixel_dtype)\n",
    "\n",
    "pixels"
   ]
  },
  {
   "cell_type": "markdown",
   "id": "a66194f1-0099-4808-8ebf-5cf10eee5071",
   "metadata": {},
   "source": [
    "10. Как конвертировать тип массив от float32 в int32 in place?"
   ]
  },
  {
   "cell_type": "code",
   "execution_count": 16,
   "id": "07ed452c-3f7c-40a7-a5b5-716602a5eed9",
   "metadata": {},
   "outputs": [
    {
     "data": {
      "text/plain": [
       "array([1.5, 2.9, 3.1], dtype=float32)"
      ]
     },
     "execution_count": 16,
     "metadata": {},
     "output_type": "execute_result"
    }
   ],
   "source": [
    "arr = np.array([1.5, 2.9, 3.1], dtype=np.float32)\n",
    "arr"
   ]
  },
  {
   "cell_type": "code",
   "execution_count": 17,
   "id": "b2d879f0",
   "metadata": {},
   "outputs": [
    {
     "data": {
      "text/plain": [
       "array([1, 2, 3], dtype=int32)"
      ]
     },
     "execution_count": 17,
     "metadata": {},
     "output_type": "execute_result"
    }
   ],
   "source": [
    "arr = arr.astype(np.int32, copy=False)\n",
    "arr"
   ]
  },
  {
   "cell_type": "markdown",
   "id": "5bd0f757-bb01-4afb-b4f0-6821b5c5b2b7",
   "metadata": {},
   "source": [
    "### 2. Pandas"
   ]
  },
  {
   "cell_type": "markdown",
   "id": "bdffd013-e573-4318-8062-65ae1c5e07e8",
   "metadata": {},
   "source": [
    "Найдите ответы на вопросы или выполните действия с предложенным датасетом \n",
    "\n",
    "Набор данных описывает эффективность учеников в зависимости от некоторых факторов влияющих на обучение и окружение человека.\n",
    "\n",
    "Файл: `student_perfomance.csv`\n",
    "\n",
    "```\n",
    "Hours_Studied - количество часов затраченное на обучение в неделю\n",
    "Attendance - поцент посещенных занятий\n",
    "Parental_Involvement - уровень участия родителей в обучении учащегося\n",
    "Access_to_Resources - доступность ресурсов для обучения\n",
    "Extracurricular_Activities - участие во внеклассных мероприятиях\n",
    "Sleep_Hours - количество часов выделяемое на сон в день\n",
    "Previous_Scores - оценка за первый экзамен\n",
    "Motivation_Level - уровень мотивации\n",
    "Internet_Access - доступ к интернету\n",
    "Tutoring_Sessions - количество посещаемых репетиторских занятий в месяц.\n",
    "Family_Income - доход семьи\n",
    "Teacher_Quality - насколько качественно преподает учитель\n",
    "School_Type - тип школы(частная, обычная)\n",
    "Peer_Influence - влияние сверстников\n",
    "Physical_Activity - физическая активность\n",
    "Learning_Disabilities - наличие проблем с обучаемостью\n",
    "Parental_Education_Level - уровень образования родителей\n",
    "Distance_from_Home - дистанция от дома до школы\n",
    "Gender - пол\n",
    "Exam_Score - оценка на конечном экзамене\n",
    "```"
   ]
  },
  {
   "cell_type": "code",
   "execution_count": 18,
   "id": "0778ec2b-a7b2-4738-b771-bb1781986f62",
   "metadata": {},
   "outputs": [],
   "source": [
    "import pandas as pd"
   ]
  },
  {
   "cell_type": "code",
   "execution_count": 19,
   "id": "bfc45614-d44b-49bd-a55c-c410a95a808f",
   "metadata": {},
   "outputs": [
    {
     "data": {
      "text/html": [
       "<div>\n",
       "<style scoped>\n",
       "    .dataframe tbody tr th:only-of-type {\n",
       "        vertical-align: middle;\n",
       "    }\n",
       "\n",
       "    .dataframe tbody tr th {\n",
       "        vertical-align: top;\n",
       "    }\n",
       "\n",
       "    .dataframe thead th {\n",
       "        text-align: right;\n",
       "    }\n",
       "</style>\n",
       "<table border=\"1\" class=\"dataframe\">\n",
       "  <thead>\n",
       "    <tr style=\"text-align: right;\">\n",
       "      <th></th>\n",
       "      <th>Hours_Studied</th>\n",
       "      <th>Attendance</th>\n",
       "      <th>Parental_Involvement</th>\n",
       "      <th>Access_to_Resources</th>\n",
       "      <th>Extracurricular_Activities</th>\n",
       "      <th>Sleep_Hours</th>\n",
       "      <th>Previous_Scores</th>\n",
       "      <th>Motivation_Level</th>\n",
       "      <th>Internet_Access</th>\n",
       "      <th>Tutoring_Sessions</th>\n",
       "      <th>Family_Income</th>\n",
       "      <th>Teacher_Quality</th>\n",
       "      <th>School_Type</th>\n",
       "      <th>Peer_Influence</th>\n",
       "      <th>Physical_Activity</th>\n",
       "      <th>Learning_Disabilities</th>\n",
       "      <th>Parental_Education_Level</th>\n",
       "      <th>Distance_from_Home</th>\n",
       "      <th>Gender</th>\n",
       "      <th>Exam_Score</th>\n",
       "    </tr>\n",
       "  </thead>\n",
       "  <tbody>\n",
       "    <tr>\n",
       "      <th>0</th>\n",
       "      <td>23</td>\n",
       "      <td>84</td>\n",
       "      <td>Low</td>\n",
       "      <td>High</td>\n",
       "      <td>No</td>\n",
       "      <td>7</td>\n",
       "      <td>73</td>\n",
       "      <td>Low</td>\n",
       "      <td>Yes</td>\n",
       "      <td>0</td>\n",
       "      <td>Low</td>\n",
       "      <td>Medium</td>\n",
       "      <td>Public</td>\n",
       "      <td>Positive</td>\n",
       "      <td>3</td>\n",
       "      <td>No</td>\n",
       "      <td>High School</td>\n",
       "      <td>Near</td>\n",
       "      <td>Male</td>\n",
       "      <td>67</td>\n",
       "    </tr>\n",
       "    <tr>\n",
       "      <th>1</th>\n",
       "      <td>19</td>\n",
       "      <td>64</td>\n",
       "      <td>Low</td>\n",
       "      <td>Medium</td>\n",
       "      <td>No</td>\n",
       "      <td>8</td>\n",
       "      <td>59</td>\n",
       "      <td>Low</td>\n",
       "      <td>Yes</td>\n",
       "      <td>2</td>\n",
       "      <td>Medium</td>\n",
       "      <td>Medium</td>\n",
       "      <td>Public</td>\n",
       "      <td>Negative</td>\n",
       "      <td>4</td>\n",
       "      <td>No</td>\n",
       "      <td>College</td>\n",
       "      <td>Moderate</td>\n",
       "      <td>Female</td>\n",
       "      <td>61</td>\n",
       "    </tr>\n",
       "    <tr>\n",
       "      <th>2</th>\n",
       "      <td>24</td>\n",
       "      <td>98</td>\n",
       "      <td>Medium</td>\n",
       "      <td>Medium</td>\n",
       "      <td>Yes</td>\n",
       "      <td>7</td>\n",
       "      <td>91</td>\n",
       "      <td>Medium</td>\n",
       "      <td>Yes</td>\n",
       "      <td>2</td>\n",
       "      <td>Medium</td>\n",
       "      <td>Medium</td>\n",
       "      <td>Public</td>\n",
       "      <td>Neutral</td>\n",
       "      <td>4</td>\n",
       "      <td>No</td>\n",
       "      <td>Postgraduate</td>\n",
       "      <td>Near</td>\n",
       "      <td>Male</td>\n",
       "      <td>74</td>\n",
       "    </tr>\n",
       "    <tr>\n",
       "      <th>3</th>\n",
       "      <td>29</td>\n",
       "      <td>89</td>\n",
       "      <td>Low</td>\n",
       "      <td>Medium</td>\n",
       "      <td>Yes</td>\n",
       "      <td>8</td>\n",
       "      <td>98</td>\n",
       "      <td>Medium</td>\n",
       "      <td>Yes</td>\n",
       "      <td>1</td>\n",
       "      <td>Medium</td>\n",
       "      <td>Medium</td>\n",
       "      <td>Public</td>\n",
       "      <td>Negative</td>\n",
       "      <td>4</td>\n",
       "      <td>No</td>\n",
       "      <td>High School</td>\n",
       "      <td>Moderate</td>\n",
       "      <td>Male</td>\n",
       "      <td>71</td>\n",
       "    </tr>\n",
       "    <tr>\n",
       "      <th>4</th>\n",
       "      <td>19</td>\n",
       "      <td>92</td>\n",
       "      <td>Medium</td>\n",
       "      <td>Medium</td>\n",
       "      <td>Yes</td>\n",
       "      <td>6</td>\n",
       "      <td>65</td>\n",
       "      <td>Medium</td>\n",
       "      <td>Yes</td>\n",
       "      <td>3</td>\n",
       "      <td>Medium</td>\n",
       "      <td>High</td>\n",
       "      <td>Public</td>\n",
       "      <td>Neutral</td>\n",
       "      <td>4</td>\n",
       "      <td>No</td>\n",
       "      <td>College</td>\n",
       "      <td>Near</td>\n",
       "      <td>Female</td>\n",
       "      <td>70</td>\n",
       "    </tr>\n",
       "  </tbody>\n",
       "</table>\n",
       "</div>"
      ],
      "text/plain": [
       "   Hours_Studied  Attendance Parental_Involvement Access_to_Resources  \\\n",
       "0             23          84                  Low                High   \n",
       "1             19          64                  Low              Medium   \n",
       "2             24          98               Medium              Medium   \n",
       "3             29          89                  Low              Medium   \n",
       "4             19          92               Medium              Medium   \n",
       "\n",
       "  Extracurricular_Activities  Sleep_Hours  Previous_Scores Motivation_Level  \\\n",
       "0                         No            7               73              Low   \n",
       "1                         No            8               59              Low   \n",
       "2                        Yes            7               91           Medium   \n",
       "3                        Yes            8               98           Medium   \n",
       "4                        Yes            6               65           Medium   \n",
       "\n",
       "  Internet_Access  Tutoring_Sessions Family_Income Teacher_Quality  \\\n",
       "0             Yes                  0           Low          Medium   \n",
       "1             Yes                  2        Medium          Medium   \n",
       "2             Yes                  2        Medium          Medium   \n",
       "3             Yes                  1        Medium          Medium   \n",
       "4             Yes                  3        Medium            High   \n",
       "\n",
       "  School_Type Peer_Influence  Physical_Activity Learning_Disabilities  \\\n",
       "0      Public       Positive                  3                    No   \n",
       "1      Public       Negative                  4                    No   \n",
       "2      Public        Neutral                  4                    No   \n",
       "3      Public       Negative                  4                    No   \n",
       "4      Public        Neutral                  4                    No   \n",
       "\n",
       "  Parental_Education_Level Distance_from_Home  Gender  Exam_Score  \n",
       "0              High School               Near    Male          67  \n",
       "1                  College           Moderate  Female          61  \n",
       "2             Postgraduate               Near    Male          74  \n",
       "3              High School           Moderate    Male          71  \n",
       "4                  College               Near  Female          70  "
      ]
     },
     "execution_count": 19,
     "metadata": {},
     "output_type": "execute_result"
    }
   ],
   "source": [
    "df = pd.read_csv('student_perfomance.csv')\n",
    "df.head()"
   ]
  },
  {
   "cell_type": "markdown",
   "id": "1026e8c6-513a-41e3-b2f4-68aae18b8435",
   "metadata": {},
   "source": [
    "1. Посчитайте среднее кол-во часов уделяемое на сон студентами"
   ]
  },
  {
   "cell_type": "markdown",
   "id": "ac55973c",
   "metadata": {},
   "source": [
    "Если среднее арифметическое"
   ]
  },
  {
   "cell_type": "code",
   "execution_count": 20,
   "id": "e74655aa-b97c-42e5-b972-e0753ddc2331",
   "metadata": {},
   "outputs": [
    {
     "data": {
      "text/plain": [
       "7.029060087785682"
      ]
     },
     "execution_count": 20,
     "metadata": {},
     "output_type": "execute_result"
    }
   ],
   "source": [
    "df.Sleep_Hours.mean()"
   ]
  },
  {
   "cell_type": "markdown",
   "id": "eee028a5-9311-4a4f-b4ac-1fb75acfb4b3",
   "metadata": {},
   "source": [
    "2. Сколько процентов студентов посещают внеклассовые активности?"
   ]
  },
  {
   "cell_type": "code",
   "execution_count": 21,
   "id": "ac0fb641-96d2-4e7c-88d5-636ce3b699d2",
   "metadata": {},
   "outputs": [
    {
     "data": {
      "text/plain": [
       "59.60345088542455"
      ]
     },
     "execution_count": 21,
     "metadata": {},
     "output_type": "execute_result"
    }
   ],
   "source": [
    "extra = df.Extracurricular_Activities == 'Yes'\n",
    "100 * sum(extra) / len(extra)"
   ]
  },
  {
   "cell_type": "markdown",
   "id": "cd7979ba-2fa8-4fd3-986d-26cee122da1f",
   "metadata": {},
   "source": [
    "3. Правда ли, что в среднем девушки сдают экзамены лучше, чем мужчины"
   ]
  },
  {
   "cell_type": "markdown",
   "id": "89195021",
   "metadata": {},
   "source": [
    "Проанализируем колонку Gender на кол-во уникальных значений(хи-хи)"
   ]
  },
  {
   "cell_type": "code",
   "execution_count": 22,
   "id": "b7e61259",
   "metadata": {},
   "outputs": [
    {
     "data": {
      "text/plain": [
       "array(['Male', 'Female'], dtype=object)"
      ]
     },
     "execution_count": 22,
     "metadata": {},
     "output_type": "execute_result"
    }
   ],
   "source": [
    "df.Gender.unique()"
   ]
  },
  {
   "cell_type": "code",
   "execution_count": 23,
   "id": "3915f77b-116c-482b-8644-2f5f11931af9",
   "metadata": {},
   "outputs": [
    {
     "data": {
      "text/plain": [
       "True"
      ]
     },
     "execution_count": 23,
     "metadata": {},
     "output_type": "execute_result"
    }
   ],
   "source": [
    "female = df[df.Gender == 'Female']\n",
    "male = df[df.Gender == 'Male']\n",
    "\n",
    "female.Exam_Score.mean() > male.Exam_Score.mean()"
   ]
  },
  {
   "cell_type": "markdown",
   "id": "4011ab68",
   "metadata": {},
   "source": [
    "Однако по прошлым результатам все не так однозначно\n"
   ]
  },
  {
   "cell_type": "code",
   "execution_count": 24,
   "id": "2f02b98e",
   "metadata": {},
   "outputs": [
    {
     "data": {
      "text/plain": [
       "False"
      ]
     },
     "execution_count": 24,
     "metadata": {},
     "output_type": "execute_result"
    }
   ],
   "source": [
    "female.Previous_Scores.mean() > male.Previous_Scores.mean()"
   ]
  },
  {
   "cell_type": "code",
   "execution_count": 25,
   "id": "54433c60",
   "metadata": {},
   "outputs": [
    {
     "data": {
      "text/plain": [
       "False"
      ]
     },
     "execution_count": 25,
     "metadata": {},
     "output_type": "execute_result"
    }
   ],
   "source": [
    "(female.Exam_Score + female.Previous_Scores).mean() > (male.Exam_Score + male.Previous_Scores).mean()"
   ]
  },
  {
   "cell_type": "markdown",
   "id": "1b69ba67-61a8-4765-9795-cfab1a09e929",
   "metadata": {},
   "source": [
    "4. Выведите 25 и 75 перцентили времени сна студентов"
   ]
  },
  {
   "cell_type": "code",
   "execution_count": 26,
   "id": "1228d2e9-fc56-4240-95c6-c98a8b84c016",
   "metadata": {},
   "outputs": [
    {
     "data": {
      "text/plain": [
       "(6.0, 8.0)"
      ]
     },
     "execution_count": 26,
     "metadata": {},
     "output_type": "execute_result"
    }
   ],
   "source": [
    "df.Sleep_Hours.quantile(0.25), df.Sleep_Hours.quantile(0.75)"
   ]
  },
  {
   "cell_type": "markdown",
   "id": "5acec4fd-f740-49a8-a5d8-562d358239c9",
   "metadata": {},
   "source": [
    "5. Правда ли, что те, кто спит больше(75 перцентиль и выше) сдает экзамен лучше, чем студенты с недосыпом(25 перцентиль и меньше)"
   ]
  },
  {
   "cell_type": "code",
   "execution_count": 27,
   "id": "cac8daef-f4e8-4c8b-b7f4-d41a6adf35ed",
   "metadata": {},
   "outputs": [
    {
     "data": {
      "text/plain": [
       "False"
      ]
     },
     "execution_count": 27,
     "metadata": {},
     "output_type": "execute_result"
    }
   ],
   "source": [
    "overslept = df[df.Sleep_Hours >= df.Sleep_Hours.quantile(0.25)]\n",
    "lackslept = df[df.Sleep_Hours <= df.Sleep_Hours.quantile(0.75)]\n",
    "overslept.Exam_Score.mean() > lackslept.Exam_Score.mean()"
   ]
  },
  {
   "cell_type": "markdown",
   "id": "8d6171a9-0f75-4f3e-ac54-95d03d1f70b6",
   "metadata": {},
   "source": [
    "6. Влияет ли физическая активность на результаты экзамена?"
   ]
  },
  {
   "cell_type": "code",
   "execution_count": 28,
   "id": "95447ecd",
   "metadata": {},
   "outputs": [
    {
     "data": {
      "text/plain": [
       "0.027824436180257445"
      ]
     },
     "execution_count": 28,
     "metadata": {},
     "output_type": "execute_result"
    }
   ],
   "source": [
    "df.Physical_Activity.corr(df.Exam_Score)"
   ]
  },
  {
   "cell_type": "markdown",
   "id": "6023b12c",
   "metadata": {},
   "source": [
    "Физическая активность практически не влияет на результаты экзаменов в данном наборе данных"
   ]
  },
  {
   "cell_type": "markdown",
   "id": "d29320f9-aef8-452c-9d61-0afa72dd93b6",
   "metadata": {},
   "source": [
    "7. Правда ли, что слуденты, чьи родители имеют высшее образование, сдают экзамены лучше, чем остальные?"
   ]
  },
  {
   "cell_type": "code",
   "execution_count": 29,
   "id": "e3be8d9b",
   "metadata": {},
   "outputs": [
    {
     "data": {
      "text/plain": [
       "array(['High School', 'College', 'Postgraduate', nan], dtype=object)"
      ]
     },
     "execution_count": 29,
     "metadata": {},
     "output_type": "execute_result"
    }
   ],
   "source": [
    "df.Parental_Education_Level.unique()"
   ]
  },
  {
   "cell_type": "markdown",
   "id": "4e469b4c",
   "metadata": {},
   "source": [
    "Если считать College и Postgraduate высшим образованием"
   ]
  },
  {
   "cell_type": "code",
   "execution_count": 30,
   "id": "d04e1904-f9f3-40bd-abbd-4d53ee9f7bd2",
   "metadata": {},
   "outputs": [
    {
     "data": {
      "text/plain": [
       "True"
      ]
     },
     "execution_count": 30,
     "metadata": {},
     "output_type": "execute_result"
    }
   ],
   "source": [
    "df[df.Parental_Education_Level != 'High School'].Exam_Score.mean() > df[df.Parental_Education_Level == 'High School'].Exam_Score.mean()"
   ]
  },
  {
   "cell_type": "markdown",
   "id": "1d447d6e-cfde-411c-9078-cd8f41f02d8b",
   "metadata": {},
   "source": [
    "8. Как влияет участие родителей на результаты экзаменов"
   ]
  },
  {
   "cell_type": "code",
   "execution_count": 31,
   "id": "ac88267b",
   "metadata": {},
   "outputs": [
    {
     "data": {
      "text/plain": [
       "array(['Low', 'Medium', 'High'], dtype=object)"
      ]
     },
     "execution_count": 31,
     "metadata": {},
     "output_type": "execute_result"
    }
   ],
   "source": [
    "df.Parental_Involvement.unique()"
   ]
  },
  {
   "cell_type": "code",
   "execution_count": 32,
   "id": "b30df6b1-5eca-43da-a115-1c1a3cbfd899",
   "metadata": {},
   "outputs": [
    {
     "data": {
      "text/plain": [
       "0.1571141921979199"
      ]
     },
     "execution_count": 32,
     "metadata": {},
     "output_type": "execute_result"
    }
   ],
   "source": [
    "(pd.Series(pd.factorize(df.Parental_Involvement)[0] + 1)).corr(df.Exam_Score)"
   ]
  },
  {
   "cell_type": "markdown",
   "id": "225a8a79",
   "metadata": {},
   "source": [
    "Это означает слабую положительную связь"
   ]
  },
  {
   "cell_type": "markdown",
   "id": "c41d5d99-65f7-4d17-82ae-971ec959f327",
   "metadata": {},
   "source": [
    "9. Правда ли, что в семьях с доходом больше среднего дети сдают экзамены лучше?"
   ]
  },
  {
   "cell_type": "code",
   "execution_count": 33,
   "id": "7f364f69",
   "metadata": {},
   "outputs": [
    {
     "data": {
      "text/plain": [
       "array(['Low', 'Medium', 'High'], dtype=object)"
      ]
     },
     "execution_count": 33,
     "metadata": {},
     "output_type": "execute_result"
    }
   ],
   "source": [
    "df.Family_Income.unique()"
   ]
  },
  {
   "cell_type": "code",
   "execution_count": 34,
   "id": "275bcc04-659b-4521-a9e5-200a5f4ef674",
   "metadata": {},
   "outputs": [
    {
     "data": {
      "text/plain": [
       "True"
      ]
     },
     "execution_count": 34,
     "metadata": {},
     "output_type": "execute_result"
    }
   ],
   "source": [
    "df[df.Family_Income == 'High'].Exam_Score.mean() > df[df.Family_Income != 'High'].Exam_Score.mean()"
   ]
  },
  {
   "cell_type": "markdown",
   "id": "a1f7a5c0-259c-4837-a5d1-2dfc05e7c13e",
   "metadata": {},
   "source": [
    "10. Посчитайте долю студентов сдавших экзамен на более чем 70 баллов в семьях с доходом ниже 25го перцентиля и отсутствием доступа к интернету"
   ]
  },
  {
   "cell_type": "code",
   "execution_count": 35,
   "id": "7a1a87da",
   "metadata": {},
   "outputs": [
    {
     "data": {
      "text/plain": [
       "Index(['Low', 'Medium', 'High'], dtype='object')"
      ]
     },
     "execution_count": 35,
     "metadata": {},
     "output_type": "execute_result"
    }
   ],
   "source": [
    "pd.factorize(df.Parental_Involvement)[1]"
   ]
  },
  {
   "cell_type": "code",
   "execution_count": 36,
   "id": "22e1fd1d",
   "metadata": {},
   "outputs": [
    {
     "data": {
      "text/plain": [
       "array(['Yes', 'No'], dtype=object)"
      ]
     },
     "execution_count": 36,
     "metadata": {},
     "output_type": "execute_result"
    }
   ],
   "source": [
    "df['Family_Income_Encoded'] =  pd.Series(pd.factorize(df.Family_Income)[0] + 1)\n",
    "df.Internet_Access.unique()"
   ]
  },
  {
   "cell_type": "markdown",
   "id": "5969c6a0",
   "metadata": {},
   "source": [
    "Если строго ниже"
   ]
  },
  {
   "cell_type": "code",
   "execution_count": 37,
   "id": "0455512c",
   "metadata": {},
   "outputs": [
    {
     "data": {
      "text/plain": [
       "0"
      ]
     },
     "execution_count": 37,
     "metadata": {},
     "output_type": "execute_result"
    }
   ],
   "source": [
    "low_families = df[(df.Family_Income_Encoded < df.Family_Income_Encoded.quantile(0.25)) & (df.Internet_Access == 'No')] \n",
    "\n",
    "100 * sum(low_families.Exam_Score > 70) / len(low_families) if len(low_families) > 0 else 0"
   ]
  },
  {
   "cell_type": "markdown",
   "id": "b77303f3",
   "metadata": {},
   "source": [
    "Если не строго ниже 25го персентиля"
   ]
  },
  {
   "cell_type": "code",
   "execution_count": 38,
   "id": "d6d68e59",
   "metadata": {},
   "outputs": [
    {
     "data": {
      "text/plain": [
       "8.056872037914692"
      ]
     },
     "execution_count": 38,
     "metadata": {},
     "output_type": "execute_result"
    }
   ],
   "source": [
    "low_families = df[(df.Family_Income_Encoded <= df.Family_Income_Encoded.quantile(0.25)) & (df.Internet_Access == 'No')] \n",
    "\n",
    "100 * sum(low_families.Exam_Score > 70) / len(low_families) if len(low_families) > 0 else 0"
   ]
  },
  {
   "cell_type": "markdown",
   "id": "deb4ca3a-3d8a-4205-bee9-d26fd28638b2",
   "metadata": {},
   "source": [
    "### 3. Визуализация"
   ]
  },
  {
   "cell_type": "markdown",
   "id": "f8941ce1-cbf2-465a-b013-1b84aeb999ef",
   "metadata": {},
   "source": [
    "Используя библиотеки matplotlib/sns/plotly/pandas и набор данных представленный ранее визуализируйте"
   ]
  },
  {
   "cell_type": "markdown",
   "id": "5e98ce6f-8d02-4120-ad85-241494c038d6",
   "metadata": {},
   "source": [
    "1. Правда ли, что количество часов затрачиваемых на сон распределено примерно нормально?"
   ]
  },
  {
   "cell_type": "code",
   "execution_count": 39,
   "id": "664666b2-17b7-49dd-a3bd-c4be9361755d",
   "metadata": {},
   "outputs": [
    {
     "data": {
      "text/plain": [
       "<Axes: >"
      ]
     },
     "execution_count": 39,
     "metadata": {},
     "output_type": "execute_result"
    },
    {
     "data": {
      "image/png": "[encoded data removed]",
      "text/plain": [
       "<Figure size 640x480 with 1 Axes>"
      ]
     },
     "metadata": {},
     "output_type": "display_data"
    }
   ],
   "source": [
    "df.Sleep_Hours.hist()"
   ]
  },
  {
   "cell_type": "markdown",
   "id": "4c7500bb-36ca-4ea7-bc3c-4f15afbd4c41",
   "metadata": {},
   "source": [
    "2. Постройте гистограмму распределения количества часов затрачиваемых на обучение среди мальчиков и девочек"
   ]
  },
  {
   "cell_type": "code",
   "execution_count": null,
   "id": "7325e7f8-5f00-4a82-8184-7064505f7ccd",
   "metadata": {},
   "outputs": [],
   "source": []
  },
  {
   "cell_type": "markdown",
   "id": "efdd0669-36e0-4708-ac6b-ad0d92881113",
   "metadata": {},
   "source": [
    "3. Как зависит результат конечного экзамена от результата первого экзамена"
   ]
  },
  {
   "cell_type": "code",
   "execution_count": null,
   "id": "7504a170-04a1-4b86-924d-8d46be16fd3c",
   "metadata": {},
   "outputs": [],
   "source": []
  },
  {
   "cell_type": "markdown",
   "id": "b5839a48-e992-45fc-81ee-59cb5aa79dda",
   "metadata": {},
   "source": [
    "4. Постройте box plot отображающий распределение доходов семей детей сдавших экзамены на оценку ниже и выше 50 баллов"
   ]
  },
  {
   "cell_type": "code",
   "execution_count": null,
   "id": "1a942378-45ea-47a0-bac9-488960491613",
   "metadata": {},
   "outputs": [],
   "source": []
  },
  {
   "cell_type": "markdown",
   "id": "d4c97bef-bb64-43cc-a89f-7510174492ec",
   "metadata": {},
   "source": [
    "5. Правда ли, что количество посещаемых занятий с репетитором в месяц напрямую влияет на балл в конечном экзамене?"
   ]
  },
  {
   "cell_type": "code",
   "execution_count": null,
   "id": "a1f444af-3544-432c-8dc6-bb74d4cff272",
   "metadata": {},
   "outputs": [],
   "source": []
  },
  {
   "cell_type": "markdown",
   "id": "16249674-e680-4ab0-a16a-4e98c24202ed",
   "metadata": {},
   "source": [
    "6. Как физическая активность влияет на успеваемость?"
   ]
  },
  {
   "cell_type": "code",
   "execution_count": null,
   "id": "5d1f5e09-3f97-45ad-87f8-c9796cc214db",
   "metadata": {},
   "outputs": [],
   "source": []
  },
  {
   "cell_type": "markdown",
   "id": "16afdeec-8c90-4ed1-a599-e0b1343bbf5c",
   "metadata": {},
   "source": [
    "7. Постройте HeatMap где ось Х - процент посещаемость, Y - количество занятий с репетитором, а Z - балл за итоговый экзамен*\n",
    "\n",
    "\\* Задание на доп. балл"
   ]
  },
  {
   "cell_type": "code",
   "execution_count": null,
   "id": "e10d0cc7-a1ca-4204-a875-b1660e44618d",
   "metadata": {},
   "outputs": [],
   "source": []
  }
 ],
 "metadata": {
  "kernelspec": {
   "display_name": "Python 3 (ipykernel)",
   "language": "python",
   "name": "python3"
  },
  "language_info": {
   "codemirror_mode": {
    "name": "ipython",
    "version": 3
   },
   "file_extension": ".py",
   "mimetype": "text/x-python",
   "name": "python",
   "nbconvert_exporter": "python",
   "pygments_lexer": "ipython3",
   "version": "3.10.12"
  }
 },
 "nbformat": 4,
 "nbformat_minor": 5
}
